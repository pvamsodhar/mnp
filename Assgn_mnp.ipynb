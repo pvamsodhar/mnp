{
  "nbformat": 4,
  "nbformat_minor": 0,
  "metadata": {
    "colab": {
      "provenance": []
    },
    "kernelspec": {
      "name": "python3",
      "display_name": "Python 3"
    },
    "language_info": {
      "name": "python"
    }
  },
  "cells": [
    {
      "cell_type": "markdown",
      "source": [
        "# **Python**"
      ],
      "metadata": {
        "id": "WokSMQrUk_jF"
      }
    },
    {
      "cell_type": "markdown",
      "source": [
        "**1a**"
      ],
      "metadata": {
        "id": "9i1hQLAJlDVZ"
      }
    },
    {
      "cell_type": "code",
      "execution_count": null,
      "metadata": {
        "colab": {
          "base_uri": "https://localhost:8080/"
        },
        "id": "Lo5iqH-2k8da",
        "outputId": "de1316ab-431d-4eeb-d03e-c6295ce6226b"
      },
      "outputs": [
        {
          "output_type": "stream",
          "name": "stdout",
          "text": [
            "f(10)\n",
            "JIHGFEDCBABCDEFGHIJ\n",
            "f(6)\n",
            "FEDCBABCDEF\n"
          ]
        }
      ],
      "source": [
        "def f(n):\n",
        "      for i in range(n):\n",
        "       row = ''.join(chr(65 + abs(j-i)) for j in range(2*i + 1))\n",
        "\n",
        "      print(row.center(2*n - 1, '-'))\n",
        "#Tests\n",
        "print(f\"f(10)\")\n",
        "f(10)\n",
        "print(f\"f(6)\")\n",
        "f(6)"
      ]
    },
    {
      "cell_type": "markdown",
      "source": [
        "**1b**"
      ],
      "metadata": {
        "id": "WrCpxOPklNlL"
      }
    },
    {
      "cell_type": "code",
      "source": [
        "def F(d : dict):\n",
        "    print(f\"Key values sorting in ascending\")\n",
        "    for key in sorted(d.keys()):\n",
        "        x, y = d[key]\n",
        "        print(f\"-{key}-, -{x}-, -{y}-\")\n",
        "\n",
        "    print(f\"x values in descending\")\n",
        "    for x in sorted(d.keys(), key = lambda k: d[k][0]):\n",
        "        x, y = d[key]\n",
        "        print(f\"-{key}-, -{x}-, -{y}-\")\n",
        "    print(f\"y values in ascending\")\n",
        "    for y in sorted(d.keys(), key = lambda k: d[k][1], reverse=True):\n",
        "        x, y = d[key]\n",
        "        print(f\"-{key}-, -{x}-, -{y}-\")\n",
        "\n",
        "#Tests\n",
        "\n",
        "F({1 : (1, 2), 2 : (-1, 4), 5 : (-4, 3), 4 : (2, 3)})"
      ],
      "metadata": {
        "colab": {
          "base_uri": "https://localhost:8080/"
        },
        "id": "SFTLfqdmlHtb",
        "outputId": "b40d7d1f-1b2e-4f95-f7bf-1ec6ba27fe95"
      },
      "execution_count": null,
      "outputs": [
        {
          "output_type": "stream",
          "name": "stdout",
          "text": [
            "Key values sorting in ascending\n",
            "-1-, -1-, -2-\n",
            "-2-, --1-, -4-\n",
            "-4-, -2-, -3-\n",
            "-5-, --4-, -3-\n",
            "x values in descending\n",
            "-5-, --4-, -3-\n",
            "-5-, --4-, -3-\n",
            "-5-, --4-, -3-\n",
            "-5-, --4-, -3-\n",
            "y values in ascending\n",
            "-5-, --4-, -3-\n",
            "-5-, --4-, -3-\n",
            "-5-, --4-, -3-\n",
            "-5-, --4-, -3-\n"
          ]
        }
      ]
    },
    {
      "cell_type": "code",
      "source": [
        "F({-8 : (4, 2), 6 : (-3, 4), 7 : (2, 1), 5 : (9, -10)})"
      ],
      "metadata": {
        "colab": {
          "base_uri": "https://localhost:8080/"
        },
        "id": "RCizpgfwlS02",
        "outputId": "2224eb0d-facd-421c-c971-ae441f419b98"
      },
      "execution_count": null,
      "outputs": [
        {
          "output_type": "stream",
          "name": "stdout",
          "text": [
            "Key values sorting in ascending\n",
            "--8-, -4-, -2-\n",
            "-5-, -9-, --10-\n",
            "-6-, --3-, -4-\n",
            "-7-, -2-, -1-\n",
            "x values in descending\n",
            "-7-, -2-, -1-\n",
            "-7-, -2-, -1-\n",
            "-7-, -2-, -1-\n",
            "-7-, -2-, -1-\n",
            "y values in ascending\n",
            "-7-, -2-, -1-\n",
            "-7-, -2-, -1-\n",
            "-7-, -2-, -1-\n",
            "-7-, -2-, -1-\n"
          ]
        }
      ]
    },
    {
      "cell_type": "markdown",
      "source": [
        "**2a**"
      ],
      "metadata": {
        "id": "WuGzxSCMlZae"
      }
    },
    {
      "cell_type": "code",
      "source": [
        "file_path = '/content/student_records.csv'\n",
        "\n",
        "def read_csv(file_path):\n",
        "    with open(file_path, 'r') as file:\n",
        "        lines = file.readlines()\n",
        "    headers = lines[0].strip().split(',')\n",
        "    data = []\n",
        "    for line in lines[1:]:\n",
        "        values = line.strip().split(',')\n",
        "        record = dict(zip(headers, values))\n",
        "        data.append(record)\n",
        "    return data\n",
        "\n",
        "data = read_csv(file_path)\n",
        "\n",
        "print(\"First 10 rows of the data:\")\n",
        "for i, row in enumerate(data[:10], 1):\n",
        "    print(f\"{row}\")\n"
      ],
      "metadata": {
        "colab": {
          "base_uri": "https://localhost:8080/"
        },
        "id": "kPXDbvAJlWa_",
        "outputId": "8b0c0c78-b174-46ce-c094-64153516d97a"
      },
      "execution_count": null,
      "outputs": [
        {
          "output_type": "stream",
          "name": "stdout",
          "text": [
            "First 10 rows of the data:\n",
            "{'roll_number': '588946', 'department': 'MA', 'credit': '3', 'course_name': 'EC250', 'course_type': 'hasmed_elective', 'grade': 'AB'}\n",
            "{'roll_number': '145372', 'department': 'EP', 'credit': '4', 'course_name': 'EP407', 'course_type': 'hasmed_elective', 'grade': 'CC'}\n",
            "{'roll_number': '834515', 'department': 'MA', 'credit': '8', 'course_name': 'EP885', 'course_type': 'hasmed_elective', 'grade': 'BB'}\n",
            "{'roll_number': '344265', 'department': 'CSE', 'credit': '6', 'course_name': 'CSE699', 'course_type': 'honours', 'grade': 'AB'}\n",
            "{'roll_number': '358405', 'department': 'MA', 'credit': '3', 'course_name': 'EE460', 'course_type': 'minor', 'grade': 'AP'}\n",
            "{'roll_number': '781075', 'department': 'CE', 'credit': '8', 'course_name': 'CE540', 'course_type': 'honours', 'grade': 'CC'}\n",
            "{'roll_number': '180828', 'department': 'CSE', 'credit': '6', 'course_name': 'CE880', 'course_type': 'minor', 'grade': 'AB'}\n",
            "{'roll_number': '981238', 'department': 'MM', 'credit': '4', 'course_name': 'CSE226', 'course_type': 'minor', 'grade': 'AB'}\n",
            "{'roll_number': '836881', 'department': 'MM', 'credit': '8', 'course_name': 'MM530', 'course_type': 'core', 'grade': 'AA'}\n",
            "{'roll_number': '310604', 'department': 'EE', 'credit': '8', 'course_name': 'EE202', 'course_type': 'core', 'grade': 'AB'}\n"
          ]
        }
      ]
    },
    {
      "cell_type": "markdown",
      "source": [
        "2b"
      ],
      "metadata": {
        "id": "a83mnN5Csn8N"
      }
    },
    {
      "cell_type": "code",
      "source": [
        "def calculate_student_cpi():\n",
        "    \"\"\"\n",
        "    Calculate total credits and CPI for each student\n",
        "    \"\"\"\n",
        "    # Grade to point mapping\n",
        "    grade_points = {\n",
        "        'AP': 10, 'AA': 10,\n",
        "        'AB': 9, 'BB': 8,\n",
        "        'BC': 7, 'CC': 6\n",
        "    }\n",
        "\n",
        "    student_records = {}\n",
        "\n",
        "    with open('/content/student_records.csv', 'r') as file:\n",
        "        # Skip header\n",
        "        header = file.readline().strip().split(',')\n",
        "\n",
        "        for line in file:\n",
        "            record = line.strip().split(',')\n",
        "            roll_number = record[0]\n",
        "\n",
        "            # Initialize student record\n",
        "            if roll_number not in student_records:\n",
        "                student_records[roll_number] = {\n",
        "                    'total_credits': 0,\n",
        "                    'weighted_sum': 0\n",
        "                }\n",
        "\n",
        "            # Extract course details\n",
        "            credit = float(record[3])\n",
        "            grade = record[4]\n",
        " # Update student record\n",
        "            if grade in grade_points:\n",
        "                student_records[roll_number]['total_credits'] += credit\n",
        "                student_records[roll_number]['weighted_sum'] += credit * grade_points[grade]\n",
        "\n",
        "    # Calculate and print CPI for each student\n",
        "    for roll_number, record in student_records.items():\n",
        "        if record['total_credits'] > 0:\n",
        "            cpi = record['weighted_sum'] / record['total_credits']\n",
        "            print(f\"Roll No: {roll_number}, Total Credits: {record['total_credits']:.2f}, CPI: {cpi:.2f}\")\n"
      ],
      "metadata": {
        "id": "PC6OjGu2IQfF"
      },
      "execution_count": null,
      "outputs": []
    },
    {
      "cell_type": "markdown",
      "source": [
        "**2c**"
      ],
      "metadata": {
        "id": "QMIJU9vIOfzr"
      }
    },
    {
      "cell_type": "code",
      "source": [
        "def check_graduation_requirements():\n",
        "    \"\"\"\n",
        "    Find students meeting graduation requirements\n",
        "    \"\"\"\n",
        "    student_courses = {}\n",
        "\n",
        "    with open('/content/student_records.csv', 'r') as file:\n",
        "        # Skip header\n",
        "        header = file.readline().strip().split(',')\n",
        "\n",
        "        for line in file:\n",
        "            record = line.strip().split(',')\n",
        "            roll_number = record[0]\n",
        "            course_type = record[1]\n",
        "            credit = float(record[3])\n",
        "\n",
        "            # Initialize student record if not exists\n",
        "            if roll_number not in student_courses:\n",
        "                student_courses[roll_number] = {\n",
        "                    'core': 0,\n",
        "                    'dept_elective': 0,\n",
        "                    'flexible_elective': 0,\n",
        "                    'hasmed_elective': 0\n",
        "                }\n",
        "\n",
        " # Update course credits by type\n",
        "            if course_type == 'Core':\n",
        "                student_courses[roll_number]['core'] += credit\n",
        "            elif course_type == 'Department Elective':\n",
        "                student_courses[roll_number]['dept_elective'] += credit\n",
        "            elif course_type == 'Flexible Elective':\n",
        "                student_courses[roll_number]['flexible_elective'] += credit\n",
        "            elif course_type == 'Hasmed Elective':\n",
        "                student_courses[roll_number]['hasmed_elective'] += credit\n",
        "\n",
        "    # Check graduation requirements\n",
        "    graduation_candidates = []\n",
        "    for roll_number, credit in student_courses.items():\n",
        "        if (credit['core'] >= 20 and\n",
        "            credit['dept_elective'] >= 15 and\n",
        "            credit['flexible_elective'] >= 10 and\n",
        "            credit['hasmed_elective'] >= 5):\n",
        "            graduation_candidates.append(roll_number)\n",
        "\n",
        "    print(\"Students meeting graduation requirements:\")\n",
        "    print(graduation_candidates)\n",
        "\n"
      ],
      "metadata": {
        "id": "kN5E6__VMhiF"
      },
      "execution_count": null,
      "outputs": []
    },
    {
      "cell_type": "markdown",
      "source": [
        "**2d**"
      ],
      "metadata": {
        "id": "wlIpYv-aOd6K"
      }
    },
    {
      "cell_type": "code",
      "source": [
        "def check_minor_completion():\n",
        "    \"\"\"\n",
        "    Find students who completed a minor\n",
        "    \"\"\"\n",
        "    student_minor_credits = {}\n",
        "\n",
        "    with open('/content/student_records.csv', 'r') as file:\n",
        "        # Skip header\n",
        "        header = file.readline().strip().split(',')\n",
        "\n",
        "        for line in file:\n",
        "            record = line.strip().split(',')\n",
        "            roll_number = record[0]\n",
        "            department = record[2]\n",
        "            minor_tag = record[5]\n",
        "            credit = float(record[3])\n",
        "\n",
        "            # Track minor credits per department for each student\n",
        "            if minor_tag == 'Minor':\n",
        "                if roll_number not in student_minor_credits:\n",
        "                    student_minor_credits[roll_number] = {}\n",
        "\n",
        "                if department not in student_minor_credits[roll_number]:\n",
        "                    student_minor_credits[roll_number][department] = 0\n",
        "\n",
        "                student_minor_credits[roll_number][department] += credit\n",
        "\n",
        "    # Find students with at least 10 credits in a minor\n",
        "    minor_students = [\n",
        "        roll_number for roll_number, dept_credits in student_minor_credits.items()\n",
        "        if any(credit >= 10 for credit in dept_credits.values())\n",
        "    ]\n",
        "\n",
        "    print(\"Students who completed a minor:\")\n",
        "    print(minor_students)\n"
      ],
      "metadata": {
        "id": "1LNyPy7kM6OL"
      },
      "execution_count": null,
      "outputs": []
    },
    {
      "cell_type": "markdown",
      "source": [
        "**2e**"
      ],
      "metadata": {
        "id": "IJ1c593JOasj"
      }
    },
    {
      "cell_type": "code",
      "source": [
        "def check_honours_completion():\n",
        "    \"\"\"\n",
        "    Find students who completed honours\n",
        "    \"\"\"\n",
        "    student_honours_credits = {}\n",
        "\n",
        "    with open('/content/student_records.csv', 'r') as file:\n",
        "        # Skip header\n",
        "        header = file.readline().strip().split(',')\n",
        "\n",
        "        for line in file:\n",
        "            record = line.strip().split(',')\n",
        "            roll_number = record[0]\n",
        "            course_type = record[1]\n",
        "            honours_tag = record[5]\n",
        "            credit = float(record[3])\n",
        "\n",
        "            # Initialize student record if not exists\n",
        "            if roll_number not in student_honours_credits:\n",
        "                student_honours_credits[roll_number] = {\n",
        "                    'core_credits': 0,\n",
        "                    'honours_credits': 0\n",
        "                }\n",
        "\n",
        "            # Track core and honours credits\n",
        "            if course_type == 'Core':\n",
        "                student_honours_credits[roll_number]['core_credits'] += credit\n",
        "            if honours_tag == 'Honours':\n",
        "                student_honours_credits[roll_number]['honours_credits'] += credit\n",
        "\n",
        "    # Find students with honours requirements\n",
        "    honours_students = [\n",
        "        roll_number for roll_number, credit in student_honours_credits.items()\n",
        "        if credit['honours_credits'] >= 10 and credits['core_credits'] >= 20\n",
        "    ]\n",
        "\n",
        "    print(\"Students who completed Honours:\")\n",
        "    print(honours_students)\n",
        "\n"
      ],
      "metadata": {
        "id": "mQWpl8jrNvoE"
      },
      "execution_count": null,
      "outputs": []
    },
    {
      "cell_type": "markdown",
      "source": [
        "# **SciPy**"
      ],
      "metadata": {
        "id": "kQMGa5Lvlos1"
      }
    },
    {
      "cell_type": "markdown",
      "source": [
        "**PartA**"
      ],
      "metadata": {
        "id": "SczZtOO9ls1K"
      }
    },
    {
      "cell_type": "code",
      "source": [
        "import numpy as np\n",
        "from scipy.optimize import minimize\n",
        "\n",
        "def fun(x):\n",
        "    return 2*(x[0]-x[1]-3)**2 + 4*(x[0]+2*x[1]+1)**4\n",
        "\n",
        "constraints = [{'type':'ineq', 'fun': lambda x: x[0] - x[1] + 3},\n",
        "               {'type':'ineq', 'fun': lambda x: 5-((x[0] + 2)**2 + (x[1]+1)**2)}]\n",
        "\n",
        "x0 = np.array([0, 0])\n",
        "\n",
        "result = minimize(fun, x0, constraints=constraints)\n",
        "\n",
        "print(result.x)\n",
        "print(result.fun)"
      ],
      "metadata": {
        "colab": {
          "base_uri": "https://localhost:8080/"
        },
        "id": "3N9ixFAGlbgF",
        "outputId": "a02f0f05-0c9d-462b-b554-8b9ed71a1974"
      },
      "execution_count": null,
      "outputs": [
        {
          "output_type": "stream",
          "name": "stdout",
          "text": [
            "[ 0.23492503 -0.92851489]\n",
            "7.345026216976594\n"
          ]
        }
      ]
    },
    {
      "cell_type": "markdown",
      "source": [
        "PartB"
      ],
      "metadata": {
        "id": "OvbC4nIVlzou"
      }
    },
    {
      "cell_type": "code",
      "source": [
        "import scipy.integrate as spi\n",
        "\n",
        "def f(t):\n",
        "    x = np.sqrt(3) * np.cos(t)\n",
        "    y = np.sqrt(3) * np.sin(t)\n",
        "    return x**2 + y**4\n",
        "def integral(t):\n",
        "    x = np.sqrt(3) * np.cos(t)\n",
        "    y = np.sqrt(3) * np.sin(t)\n",
        "    dx_dt = -np.sqrt(3) * np.sin(t)\n",
        "    dy_dt = np.sqrt(3) * np.cos(t)\n",
        "    arc_length = np.sqrt(dx_dt**2 + dy_dt**2)\n",
        "    return f(t) * arc_length\n",
        "\n",
        "result, errpr = spi.quad(integral, 0, 2*np.pi)\n",
        "print(result)"
      ],
      "metadata": {
        "colab": {
          "base_uri": "https://localhost:8080/"
        },
        "id": "fLHtF6nTlx4R",
        "outputId": "c2e7c8b2-1b2c-4a9a-d92a-dcc083df4207"
      },
      "execution_count": null,
      "outputs": [
        {
          "output_type": "stream",
          "name": "stdout",
          "text": [
            "53.05363140385085\n"
          ]
        }
      ]
    },
    {
      "cell_type": "markdown",
      "source": [
        "## **Numpy**"
      ],
      "metadata": {
        "id": "FrYYFeIdl5YI"
      }
    },
    {
      "cell_type": "code",
      "source": [
        "import time\n",
        "import numpy as np\n",
        "import matplotlib.pyplot as plt\n",
        "\n",
        "# TODO 1\n",
        "def load_data(data_path):\n",
        "    # Load data from the specified path and return as a numpy array of size Nx2\n",
        "    data = np.loadtxt(data_path, delimiter=',')\n",
        "    return data\n",
        "\n",
        "# TODO 2.1\n",
        "def initialise_centers(data, K, init_centers=None):\n",
        "    if init_centers is None:\n",
        "        # Randomly select K unique data points without replacement\n",
        "        indices = np.random.choice(data.shape[0], K, replace=False)\n",
        "        centers = data[indices]\n",
        "    else:\n",
        "        centers = init_centers\n",
        "    return centers\n",
        "\n",
        "# TODO 2.2\n",
        "def initialise_labels(data):\n",
        "    # Initialize the labels to all ones\n",
        "    return np.ones(data.shape[0], dtype=int)\n",
        "\n",
        "### TODO 3.1 : E step\n",
        "def calculate_distances(data, centers):\n",
        "    # Calculate the distance from each data point to each center\n",
        "    distances = np.linalg.norm(data[:, np.newaxis] - centers, axis=2)\n",
        "    return distances\n",
        "\n",
        "# TODO 3.2 : E step\n",
        "def update_labels(distances):\n",
        "    # Assign the label of the nearest center to each data point\n",
        "    return np.argmin(distances, axis=1)\n",
        "\n",
        "# TODO 4 : M step\n",
        "def update_centers(data, labels, K):\n",
        "    centers = np.array([data[labels == k].mean(axis=0) for k in range(K)])\n",
        "    return centers\n",
        "\n",
        "# TODO 6 : Check convergence\n",
        "def check_termination(labels1, labels2):\n",
        "    # Check if the labels have changed from the previous iteration\n",
        "    return np.array_equal(labels1, labels2)\n",
        "\n",
        "### DON'T CHANGE ANYTHING IN THE FOLLOWING FUNCTION\n",
        "def kmeans(data_path:str, K:int, init_centers):\n",
        "    data = load_data(data_path)\n",
        "    centers = initialise_centers(data, K, init_centers)\n",
        "    labels = initialise_labels(data)\n",
        "    start_time = time.time() # Time stamp\n",
        "    while True:\n",
        "        distances = calculate_distances(data, centers)\n",
        "        labels_new = update_labels(distances)\n",
        "        centers = update_centers(data, labels_new, K)\n",
        "        if check_termination(labels, labels_new):\n",
        "            break\n",
        "        else:\n",
        "            labels = labels_new\n",
        "    end_time = time.time() # Time stamp after the algorithm ends\n",
        "    return centers, labels, end_time - start_time\n",
        "\n",
        "# TODO 7\n",
        "def visualise(data_path, labels, centers):\n",
        "    data = load_data(data_path)\n",
        "    plt.scatter(data[:, 0], data[:, 1], c=labels, s=50, cmap='viridis')\n",
        "    plt.scatter(centers[:, 0], centers[:, 1], c='black', s=200, alpha=0.5)\n",
        "    plt.title('K-means clustering')\n",
        "    plt.xlabel('Longitude')\n",
        "    plt.ylabel('Latitude')\n",
        "    plt.savefig('kmeans.png')  # Save the plot as 'kmeans.png'\n",
        "    return plt\n",
        "\n",
        "### After you have completed the above functions, run the following code to generate the plot\n",
        "data_path = 'spice_locations.txt'\n",
        "K, init_centers = 2, None\n",
        "centers, labels, time_taken = kmeans(data_path, K, init_centers)\n",
        "print('Time taken for the algorithm to converge:', time_taken)\n",
        "visualise(data_path, labels, centers)"
      ],
      "metadata": {
        "colab": {
          "base_uri": "https://localhost:8080/",
          "height": 508
        },
        "id": "UN63WKVyl42B",
        "outputId": "8ea59b5e-92a0-42d0-aaf5-d209358f22d5"
      },
      "execution_count": null,
      "outputs": [
        {
          "output_type": "stream",
          "name": "stdout",
          "text": [
            "Time taken for the algorithm to converge: 0.0009694099426269531\n"
          ]
        },
        {
          "output_type": "execute_result",
          "data": {
            "text/plain": [
              "<module 'matplotlib.pyplot' from '/usr/local/lib/python3.10/dist-packages/matplotlib/pyplot.py'>"
            ]
          },
          "metadata": {},
          "execution_count": 8
        },
        {
          "output_type": "display_data",
          "data": {
            "text/plain": [
              "<Figure size 640x480 with 1 Axes>"
            ],
            "image/png": "[encoded data removed]"
          },
          "metadata": {}
        }
      ]
    },
    {
      "cell_type": "code",
      "source": [],
      "metadata": {
        "id": "BYcK1Zt6l_wg"
      },
      "execution_count": null,
      "outputs": []
    }
  ]
}